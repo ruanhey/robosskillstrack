{
 "cells": [
  {
   "cell_type": "code",
   "execution_count": 2,
   "metadata": {},
   "outputs": [],
   "source": [
    "from bs4 import BeautifulSoup\n",
    "import requests\n",
    "import pandas as pd"
   ]
  },
  {
   "cell_type": "code",
   "execution_count": 3,
   "metadata": {},
   "outputs": [],
   "source": [
    "urls_gupy = [\"https://www.gupy.io/blog/\",\n",
    "            \"https://www.gupy.io/blog/page/2\",\n",
    "            \"https://www.gupy.io/blog/page/3\",\n",
    "            \"https://www.gupy.io/blog/page/4\",\n",
    "            \"https://www.gupy.io/blog/page/5\",\n",
    "            \"https://www.gupy.io/blog/page/6\",\n",
    "            \"https://www.gupy.io/blog/page/7\",\n",
    "            \"https://www.gupy.io/blog/page/8\",\n",
    "            \"https://www.gupy.io/blog/page/9\",\n",
    "            \"https://www.gupy.io/blog/page/10\",\n",
    "            \"https://www.gupy.io/blog/page/11\",\n",
    "            \"https://www.gupy.io/blog/page/12\",\n",
    "            \"https://www.gupy.io/blog/page/13\",\n",
    "            \"https://www.gupy.io/blog/page/14\",\n",
    "            \"https://www.gupy.io/blog/page/15\",\n",
    "            \"https://www.gupy.io/blog/page/16\",]"
   ]
  },
  {
   "cell_type": "code",
   "execution_count": 8,
   "metadata": {},
   "outputs": [],
   "source": [
    "df = pd.DataFrame(columns = [\"url_gupy\", \"nome_artigo\", \"url_artigo\", \"skills\"])\n",
    "\n",
    "for url_gupy in urls_gupy:\n",
    "    r = requests.get(url_gupy)\n",
    "    soup = BeautifulSoup(r.content, \"html.parser\")\n",
    "    cards = soup.find_all(\"div\", class_ = \"post-header\")\n",
    "    \n",
    "    for card in cards:\n",
    "        url_artigo = card.find(\"span\", class_ = \"lermais\").find(\"a\")[\"href\"]\n",
    "        nome_artigo = card.find(\"h3\", class_ = \"h4\").text\n",
    "        skills = card.find(\"p\", class_= \"hubspot-topic_data\").find_all(\"a\")\n",
    "        skills =[skill.text for skill in skills]\n",
    "    \n",
    "    df = df.append(pd.DataFrame([[url_gupy, nome_artigo, url_artigo, skills]],columns = df.columns))\n",
    "        \n",
    "df = df.reset_index(drop = True)"
   ]
  },
  {
   "cell_type": "code",
   "execution_count": 6,
   "metadata": {},
   "outputs": [
    {
     "data": {
      "text/html": [
       "<div>\n",
       "<style scoped>\n",
       "    .dataframe tbody tr th:only-of-type {\n",
       "        vertical-align: middle;\n",
       "    }\n",
       "\n",
       "    .dataframe tbody tr th {\n",
       "        vertical-align: top;\n",
       "    }\n",
       "\n",
       "    .dataframe thead th {\n",
       "        text-align: right;\n",
       "    }\n",
       "</style>\n",
       "<table border=\"1\" class=\"dataframe\">\n",
       "  <thead>\n",
       "    <tr style=\"text-align: right;\">\n",
       "      <th></th>\n",
       "      <th>url_gupy</th>\n",
       "      <th>nome_artigo</th>\n",
       "      <th>url_artigo</th>\n",
       "      <th>skills</th>\n",
       "    </tr>\n",
       "  </thead>\n",
       "  <tbody>\n",
       "    <tr>\n",
       "      <th>0</th>\n",
       "      <td>https://www.gupy.io/blog/</td>\n",
       "      <td>Entrevista remota: aprenda agora mesmo como fazer</td>\n",
       "      <td>https://www.gupy.io/blog/entrevista-remota</td>\n",
       "      <td>[Recrutamento e seleção, Tecnologia digital]</td>\n",
       "    </tr>\n",
       "  </tbody>\n",
       "</table>\n",
       "</div>"
      ],
      "text/plain": [
       "                    url_gupy  \\\n",
       "0  https://www.gupy.io/blog/   \n",
       "\n",
       "                                         nome_artigo  \\\n",
       "0  Entrevista remota: aprenda agora mesmo como fazer   \n",
       "\n",
       "                                   url_artigo  \\\n",
       "0  https://www.gupy.io/blog/entrevista-remota   \n",
       "\n",
       "                                         skills  \n",
       "0  [Recrutamento e seleção, Tecnologia digital]  "
      ]
     },
     "execution_count": 6,
     "metadata": {},
     "output_type": "execute_result"
    }
   ],
   "source": [
    "df"
   ]
  },
  {
   "cell_type": "code",
   "execution_count": 89,
   "metadata": {},
   "outputs": [
    {
     "data": {
      "text/html": [
       "<div>\n",
       "<style scoped>\n",
       "    .dataframe tbody tr th:only-of-type {\n",
       "        vertical-align: middle;\n",
       "    }\n",
       "\n",
       "    .dataframe tbody tr th {\n",
       "        vertical-align: top;\n",
       "    }\n",
       "\n",
       "    .dataframe thead th {\n",
       "        text-align: right;\n",
       "    }\n",
       "</style>\n",
       "<table border=\"1\" class=\"dataframe\">\n",
       "  <thead>\n",
       "    <tr style=\"text-align: right;\">\n",
       "      <th></th>\n",
       "      <th>url_gupy</th>\n",
       "      <th>nome_artigo</th>\n",
       "      <th>url_artigo</th>\n",
       "    </tr>\n",
       "  </thead>\n",
       "  <tbody>\n",
       "    <tr>\n",
       "      <th>0</th>\n",
       "      <td>https://www.gupy.io/blog/</td>\n",
       "      <td>7 benefícios da Inteligência Artificial no rec...</td>\n",
       "      <td>https://www.gupy.io/blog/beneficios-da-intelig...</td>\n",
       "    </tr>\n",
       "    <tr>\n",
       "      <th>1</th>\n",
       "      <td>https://www.gupy.io/blog/</td>\n",
       "      <td>Entenda como a Hostinger faz a gestão de um ti...</td>\n",
       "      <td>https://www.gupy.io/blog/home-office-na-hostinger</td>\n",
       "    </tr>\n",
       "    <tr>\n",
       "      <th>2</th>\n",
       "      <td>https://www.gupy.io/blog/</td>\n",
       "      <td>Metas de RH: como criar e gerenciar da melhor ...</td>\n",
       "      <td>https://www.gupy.io/blog/metas-de-rh</td>\n",
       "    </tr>\n",
       "    <tr>\n",
       "      <th>3</th>\n",
       "      <td>https://www.gupy.io/blog/</td>\n",
       "      <td>Quais as vantagens do profissional da terceira...</td>\n",
       "      <td>https://www.gupy.io/blog/profissional-da-terce...</td>\n",
       "    </tr>\n",
       "    <tr>\n",
       "      <th>4</th>\n",
       "      <td>https://www.gupy.io/blog/</td>\n",
       "      <td>Saúde mental para colaboradores: veja as dicas...</td>\n",
       "      <td>https://www.gupy.io/blog/saude-mental-para-col...</td>\n",
       "    </tr>\n",
       "    <tr>\n",
       "      <th>5</th>\n",
       "      <td>https://www.gupy.io/blog/</td>\n",
       "      <td>Importância da cultura organizacional na gestã...</td>\n",
       "      <td>https://www.gupy.io/blog/importancia-da-cultur...</td>\n",
       "    </tr>\n",
       "    <tr>\n",
       "      <th>6</th>\n",
       "      <td>https://www.gupy.io/blog/</td>\n",
       "      <td>6 tipos de treinamento e desenvolvimento onlin...</td>\n",
       "      <td>https://www.gupy.io/blog/tipos-de-treinamento-...</td>\n",
       "    </tr>\n",
       "    <tr>\n",
       "      <th>7</th>\n",
       "      <td>https://www.gupy.io/blog/</td>\n",
       "      <td>Pesquisa de engajamento: o que é e como fazer ...</td>\n",
       "      <td>https://www.gupy.io/blog/pesquisa-de-engajamento</td>\n",
       "    </tr>\n",
       "    <tr>\n",
       "      <th>8</th>\n",
       "      <td>https://www.gupy.io/blog/</td>\n",
       "      <td>Entrevista remota: aprenda agora mesmo como fazer</td>\n",
       "      <td>https://www.gupy.io/blog/entrevista-remota</td>\n",
       "    </tr>\n",
       "    <tr>\n",
       "      <th>9</th>\n",
       "      <td>https://www.gupy.io/blog/</td>\n",
       "      <td>Gestão de pessoas segundo Chiavenato: o que é ...</td>\n",
       "      <td>https://www.gupy.io/blog/gestao-de-pessoas-seg...</td>\n",
       "    </tr>\n",
       "  </tbody>\n",
       "</table>\n",
       "</div>"
      ],
      "text/plain": [
       "                    url_gupy  \\\n",
       "0  https://www.gupy.io/blog/   \n",
       "1  https://www.gupy.io/blog/   \n",
       "2  https://www.gupy.io/blog/   \n",
       "3  https://www.gupy.io/blog/   \n",
       "4  https://www.gupy.io/blog/   \n",
       "5  https://www.gupy.io/blog/   \n",
       "6  https://www.gupy.io/blog/   \n",
       "7  https://www.gupy.io/blog/   \n",
       "8  https://www.gupy.io/blog/   \n",
       "9  https://www.gupy.io/blog/   \n",
       "\n",
       "                                         nome_artigo  \\\n",
       "0  7 benefícios da Inteligência Artificial no rec...   \n",
       "1  Entenda como a Hostinger faz a gestão de um ti...   \n",
       "2  Metas de RH: como criar e gerenciar da melhor ...   \n",
       "3  Quais as vantagens do profissional da terceira...   \n",
       "4  Saúde mental para colaboradores: veja as dicas...   \n",
       "5  Importância da cultura organizacional na gestã...   \n",
       "6  6 tipos de treinamento e desenvolvimento onlin...   \n",
       "7  Pesquisa de engajamento: o que é e como fazer ...   \n",
       "8  Entrevista remota: aprenda agora mesmo como fazer   \n",
       "9  Gestão de pessoas segundo Chiavenato: o que é ...   \n",
       "\n",
       "                                          url_artigo  \n",
       "0  https://www.gupy.io/blog/beneficios-da-intelig...  \n",
       "1  https://www.gupy.io/blog/home-office-na-hostinger  \n",
       "2               https://www.gupy.io/blog/metas-de-rh  \n",
       "3  https://www.gupy.io/blog/profissional-da-terce...  \n",
       "4  https://www.gupy.io/blog/saude-mental-para-col...  \n",
       "5  https://www.gupy.io/blog/importancia-da-cultur...  \n",
       "6  https://www.gupy.io/blog/tipos-de-treinamento-...  \n",
       "7   https://www.gupy.io/blog/pesquisa-de-engajamento  \n",
       "8         https://www.gupy.io/blog/entrevista-remota  \n",
       "9  https://www.gupy.io/blog/gestao-de-pessoas-seg...  "
      ]
     },
     "execution_count": 89,
     "metadata": {},
     "output_type": "execute_result"
    }
   ],
   "source": [
    "df"
   ]
  },
  {
   "cell_type": "code",
   "execution_count": 123,
   "metadata": {},
   "outputs": [],
   "source": [
    "df_gupy = pd.DataFrame(columns = [\"url_artigo\", \"img_name\", \"description\", \"duracao\", \"data\", \"autor\"])\n",
    "\n",
    "for url_artigo, nome_artigo, index_artigo in zip(df[\"url_artigo\"],df[\"nome_artigo\"],df.index):\n",
    "    r = requests.get(url_artigo)\n",
    "    soup = BeautifulSoup(r.content, \"html.parser\")\n",
    "    img = soup.find(\"div\", class_ = \"span12 widget-span widget-type-custom_widget featured-img\").find('img')[\"src\"]\n",
    "    try : \n",
    "        post.index(description_end)\n",
    "        description = \"\\n\".join([tag.text for tag in post[post.index(description_start) : post.index(description_end)]]).replace(\"\\xa0\", \" \")\n",
    "        data = soup.find('time').text.replace(\"\\xa0\", \" \")\n",
    "        autor = soup.find(\"a\", class_ = \"author-link\").text\n",
    "        duracao = soup.find(\"div\", class_ = \"post-body data-publicacao\").find('span').findNext('span').text.split(\" \")[2]+\" min\"\n",
    "        img = soup.find(\"div\", class_ = \"span12 widget-span widget-type-custom_widget featured-img\").find('img')[\"src\"]\n",
    "        post = soup.find(\"div\", class_ = \"section post-body\").find_all()\n",
    "        description_start = soup.find(\"p\")\n",
    "        description_end = soup.find(\"h2\")\n",
    "    except :\n",
    "        description = \"\"\n",
    "        duracao = \"\"\n",
    "        data = \"\"\n",
    "        img = \"\"\n",
    "        autor = \"\"\n",
    "    \n",
    "    path = 'G:/Meu Drive/BRG - SkillTrack/Design/Imagens das ofertas/gupy'\n",
    "    img_name = path + \"Gupy_\" + str(index_artigo) + '.jpg'\n",
    "    img_data = requests.get(img).content\n",
    "    with open(img_name, 'wb') as handler:\n",
    "        handler.write(img_data)\n",
    "        \n",
    "        \n",
    "        \n",
    "    df_gupy = df_gupy.append(pd.DataFrame([[url_artigo, img_name, description, duracao, data, autor]],columns = df_gupy.columns))\n",
    "    "
   ]
  },
  {
   "cell_type": "code",
   "execution_count": 122,
   "metadata": {},
   "outputs": [
    {
     "data": {
      "text/plain": [
       "'Stefanie Ferracciu | Gupy'"
      ]
     },
     "execution_count": 122,
     "metadata": {},
     "output_type": "execute_result"
    }
   ],
   "source": [
    "r = requests.get(\"https://www.gupy.io/blog/futuro-do-recrutamento-e-selecao\")\n",
    "soup = BeautifulSoup(r.content, \"html.parser\")\n",
    "soup.find(\"a\", class_ = \"author-link\").text"
   ]
  },
  {
   "cell_type": "code",
   "execution_count": 129,
   "metadata": {},
   "outputs": [],
   "source": [
    "df_pm3.merge(df, how = \"left\", on = \"url_artigo\").to_excel(\"Artigos_gupy.xlsx\")"
   ]
  }
 ],
 "metadata": {
  "kernelspec": {
   "display_name": "Python 3",
   "language": "python",
   "name": "python3"
  },
  "language_info": {
   "codemirror_mode": {
    "name": "ipython",
    "version": 3
   },
   "file_extension": ".py",
   "mimetype": "text/x-python",
   "name": "python",
   "nbconvert_exporter": "python",
   "pygments_lexer": "ipython3",
   "version": "3.8.3"
  }
 },
 "nbformat": 4,
 "nbformat_minor": 4
}
