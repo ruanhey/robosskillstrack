{
 "cells": [
  {
   "cell_type": "code",
   "execution_count": 162,
   "metadata": {},
   "outputs": [],
   "source": [
    "from parsel import Selector\n",
    "from selenium import webdriver\n",
    "from selenium.webdriver.common.keys import Keys\n",
    "from selenium.webdriver.support.ui import WebDriverWait\n",
    "from selenium.common.exceptions import ElementClickInterceptedException, NoSuchElementException, ElementNotInteractableException\n",
    "from selenium.webdriver.support import expected_conditions as ec\n",
    "from selenium.webdriver.common.by import By\n",
    "import time\n",
    "import re\n",
    "import requests\n",
    "import pandas as pd\n",
    "import numpy as np"
   ]
  },
  {
   "cell_type": "code",
   "execution_count": 166,
   "metadata": {},
   "outputs": [],
   "source": [
    "urls_amazon = ['https://amzn.to/2WtM2dZ',\n",
    "'https://amzn.to/399Z0mi',\n",
    "'https://amzn.to/2OwpzIP',\n",
    "'https://amzn.to/3jd5SUi',\n",
    "'https://amzn.to/2B9rakL',\n",
    "'https://amzn.to/32upflY',\n",
    "'https://amzn.to/3eysbAo',\n",
    "'https://amzn.to/2CGorQe',\n",
    "'https://amzn.to/2WsnVMy',\n",
    "'https://amzn.to/3haivxL',\n",
    "'https://amzn.to/2WwF9IC',]"
   ]
  },
  {
   "cell_type": "code",
   "execution_count": 167,
   "metadata": {},
   "outputs": [
    {
     "name": "stdout",
     "output_type": "stream",
     "text": [
      "https://amzn.to/2WtM2dZ - R$90,00 Jeffrey Gitomer 296 páginas\n",
      "https://amzn.to/399Z0mi R$23,28 R$48,86 Dan Steinman 272 páginas\n",
      "https://amzn.to/2OwpzIP R$24,99 R$185,83 Mark Organ 246 páginas\n",
      "https://amzn.to/3jd5SUi R$97,75 R$102,90 Jeanne Bliss 288 páginas\n",
      "https://amzn.to/2B9rakL R$88,77 R$110,20 Leonardo Inghilleri 189 páginas\n",
      "https://amzn.to/32upflY R$45,08 R$146,08 Tony Hsieh 272 páginas\n",
      "https://amzn.to/3eysbAo R$23,66 R$22,68 Tony Hsieh 256 páginas\n",
      "https://amzn.to/2CGorQe - R$41,29 Fred Reichheld 224 páginas\n",
      "https://amzn.to/2WsnVMy R$36,55 R$38,88 Damin Hiram 168 páginas\n",
      "https://amzn.to/3haivxL - - Fabiola Tomaz --\n",
      "https://amzn.to/2WwF9IC R$119,39 R$125,67 Ashvin Vaidyanathan 288 páginas\n"
     ]
    }
   ],
   "source": [
    "df = pd.DataFrame(columns = [\"urlz_amazon\",\"name\", \"instituicao\", \"site_plataforma\", \"autor\", \"descricao\", \"avaliacoes\", \"paginas\", \"idioma\", \"img_name\", \"modalidade_1\", \"preco_fisico\", \"cashback\", \"site_de_compra\", \"modalidade_2\", \"preco_fisico\"])\n",
    "driver = webdriver.Chrome('chromedriver.exe')\n",
    "for url_amazon in urls_amazon:\n",
    "    driver.get(url_amazon)\n",
    "    time.sleep(7)\n",
    "    sel = Selector(text = driver.page_source)\n",
    "    try:\n",
    "        name = driver.find_element_by_id(\"productTitle\").text\n",
    "    except:\n",
    "        name = \"\"\n",
    "    try:\n",
    "        autor1 = driver.find_element_by_class_name(\"author\").find_element_by_tag_name(\"a\").text\n",
    "    except:\n",
    "        autor1 =\"\"\n",
    "    try:\n",
    "        autor2 = driver.find_element_by_class_name(\"contributorNameID\").text\n",
    "    except:\n",
    "        autor2= \"\"\n",
    "    autor = autor1\n",
    "    if autor == \"\":\n",
    "        autor = autor2\n",
    "    try:    \n",
    "        spans = driver.find_element_by_id(\"detail_bullets_id\").find_element_by_class_name(\"content\").text.split(\"\\n\")\n",
    "        regex = re.compile(r'(.*)páginas(.*)')\n",
    "        paginas = [i for i in spans if regex.match(i)][0].split(\"\\n\")[0].split(\":\")[1].strip()\n",
    "    except:\n",
    "        paginas = \"--\"\n",
    "    try:\n",
    "        spans = driver.find_element_by_id(\"detail_bullets_id\").find_element_by_class_name(\"content\").text.split(\"\\n\")\n",
    "        regex = re.compile(r'(.*)Idioma(.*)')\n",
    "        idioma = [i for i in spans if regex.match(i)][0].split(\"\\n\")[0].split(\":\")[1].strip()\n",
    "    except:\n",
    "        idioma  = \"--\"\n",
    "    try:\n",
    "        avaliacoes = sel.xpath('//span[@class = \"a-icon-alt\"]/text()').get().replace(\" de \", \"/\").replace(\" estrelas\", \"\")     \n",
    "    except:\n",
    "        avaliacoes = \"\"\n",
    "\n",
    "    driver.switch_to.frame(driver.find_element_by_id(\"bookDesc_iframe\")) \n",
    "    descricao = driver.find_element_by_id(\"iframeContent\").text\n",
    "    driver.switch_to.default_content()\n",
    "    img = driver.find_element_by_class_name(\"frontImage\").get_attribute(\"src\")\n",
    "    path = 'G:/Meu Drive/BRG - SkillTrack/Design/Imagens das ofertas/'\n",
    "    img_name = path + \"Livro\" + url.split(\"/\")[-1] + '.jpg'\n",
    "    img_data = requests.get(img).content\n",
    "    with open(img_name, 'wb') as handler:\n",
    "        handler.write(img_data)\n",
    "    spans = sel.xpath('//ul[@class = \"a-unordered-list a-nostyle a-button-list a-horizontal\"]//a[@class = \"a-button-text\"]//*/text()').getall()\n",
    "    regex = re.compile(r'Kindle|Capa|\\nR\\$(.*)')\n",
    "    filtered = [i for i in spans if regex.match(i)]\n",
    "    try:    \n",
    "        preco_digital = filtered[[i for i, word in enumerate(filtered) if re.search(\"^Kindle$\", word)][0]+1].replace(\"\\n\", \"\").replace(\"R$0,00\",\"-\")\n",
    "    except:\n",
    "        preco_digital = \"-\"\n",
    "    try:\n",
    "        preco_fisico = filtered[[i for i, word in enumerate(filtered) if re.search(\"^Capa\", word)][0]+1].replace(\"\\n\", \"\")\n",
    "    except:\n",
    "        preco_fisico = \"-\"\n",
    "    instituicao = \"Amazon\"\n",
    "    site_plataforma = \"https://www.amazon.com.br/\"\n",
    "    cashback = \"10%\"\n",
    "    modalidade_1 = \"Fisico\"\n",
    "    modalidade_2 = \"Digital\"\n",
    "\n",
    "    print(url_amazon,preco_digital, preco_fisico, autor, paginas)\n",
    "    \n",
    "    df = df.append(pd.DataFrame([[url_amazon, name, instituicao, site_plataforma, autor, descricao, avaliacoes, paginas, idioma, img_name, modalidade_1, preco_fisico, cashback, url_amazon, modalidade_2, preco_digital]],columns = df.columns))\n",
    "        "
   ]
  },
  {
   "cell_type": "code",
   "execution_count": 168,
   "metadata": {},
   "outputs": [],
   "source": [
    "df.to_excel(\"Livros_Amazon-CS.xlsx\")"
   ]
  },
  {
   "cell_type": "code",
   "execution_count": null,
   "metadata": {},
   "outputs": [],
   "source": []
  }
 ],
 "metadata": {
  "kernelspec": {
   "display_name": "Python 3",
   "language": "python",
   "name": "python3"
  },
  "language_info": {
   "codemirror_mode": {
    "name": "ipython",
    "version": 3
   },
   "file_extension": ".py",
   "mimetype": "text/x-python",
   "name": "python",
   "nbconvert_exporter": "python",
   "pygments_lexer": "ipython3",
   "version": "3.8.3"
  }
 },
 "nbformat": 4,
 "nbformat_minor": 4
}
