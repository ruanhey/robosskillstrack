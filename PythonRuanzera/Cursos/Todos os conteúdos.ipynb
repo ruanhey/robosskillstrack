{
 "cells": [
  {
   "cell_type": "code",
   "execution_count": 1,
   "metadata": {},
   "outputs": [],
   "source": [
    "import pandas as pd"
   ]
  },
  {
   "cell_type": "code",
   "execution_count": 2,
   "metadata": {},
   "outputs": [],
   "source": [
    "df = pd.read_excel(\"Todos.xlsx\")"
   ]
  },
  {
   "cell_type": "code",
   "execution_count": 3,
   "metadata": {},
   "outputs": [],
   "source": [
    "df_conteudos = df.groupby([1,2])[0].sum().reset_index().merge(df.groupby([1,2])[\"Área\"].apply(lambda x:list(x)).reset_index(),how = \"left\",on = [1,2])"
   ]
  },
  {
   "cell_type": "code",
   "execution_count": 4,
   "metadata": {},
   "outputs": [
    {
     "data": {
      "text/html": [
       "<div>\n",
       "<style scoped>\n",
       "    .dataframe tbody tr th:only-of-type {\n",
       "        vertical-align: middle;\n",
       "    }\n",
       "\n",
       "    .dataframe tbody tr th {\n",
       "        vertical-align: top;\n",
       "    }\n",
       "\n",
       "    .dataframe thead th {\n",
       "        text-align: right;\n",
       "    }\n",
       "</style>\n",
       "<table border=\"1\" class=\"dataframe\">\n",
       "  <thead>\n",
       "    <tr style=\"text-align: right;\">\n",
       "      <th></th>\n",
       "      <th>1</th>\n",
       "      <th>2</th>\n",
       "      <th>0</th>\n",
       "      <th>Área</th>\n",
       "    </tr>\n",
       "  </thead>\n",
       "  <tbody>\n",
       "    <tr>\n",
       "      <th>1401</th>\n",
       "      <td>Scrum Foundation Professional Certificate</td>\n",
       "      <td>CertiProf</td>\n",
       "      <td>9</td>\n",
       "      <td>[Tecnologia, Produto]</td>\n",
       "    </tr>\n",
       "    <tr>\n",
       "      <th>872</th>\n",
       "      <td>Inteligência Emocional</td>\n",
       "      <td>Escola Conquer</td>\n",
       "      <td>9</td>\n",
       "      <td>[Produto, Comercial, Customer Success, Recurso...</td>\n",
       "    </tr>\n",
       "    <tr>\n",
       "      <th>1382</th>\n",
       "      <td>SQL Fundamentals</td>\n",
       "      <td>SoloLearn</td>\n",
       "      <td>8</td>\n",
       "      <td>[Tecnologia, Produto, Comercial]</td>\n",
       "    </tr>\n",
       "    <tr>\n",
       "      <th>1309</th>\n",
       "      <td>Python 3</td>\n",
       "      <td>SoloLearn</td>\n",
       "      <td>7</td>\n",
       "      <td>[Tecnologia, Produto]</td>\n",
       "    </tr>\n",
       "    <tr>\n",
       "      <th>1603</th>\n",
       "      <td>WordPress para Iniciantes</td>\n",
       "      <td>Udemy</td>\n",
       "      <td>6</td>\n",
       "      <td>[Tecnologia]</td>\n",
       "    </tr>\n",
       "    <tr>\n",
       "      <th>...</th>\n",
       "      <td>...</td>\n",
       "      <td>...</td>\n",
       "      <td>...</td>\n",
       "      <td>...</td>\n",
       "    </tr>\n",
       "    <tr>\n",
       "      <th>579</th>\n",
       "      <td>Especialização em Marketing</td>\n",
       "      <td>Esab</td>\n",
       "      <td>1</td>\n",
       "      <td>[Customer Success]</td>\n",
       "    </tr>\n",
       "    <tr>\n",
       "      <th>578</th>\n",
       "      <td>Especialista em Vendas Online</td>\n",
       "      <td>Marketing Com Digital</td>\n",
       "      <td>1</td>\n",
       "      <td>[Marketing]</td>\n",
       "    </tr>\n",
       "    <tr>\n",
       "      <th>577</th>\n",
       "      <td>Especialista em User Onboarding</td>\n",
       "      <td>Conpass</td>\n",
       "      <td>1</td>\n",
       "      <td>[Customer Success]</td>\n",
       "    </tr>\n",
       "    <tr>\n",
       "      <th>576</th>\n",
       "      <td>Especialista em Sales Development Representative</td>\n",
       "      <td>Universidade Previsível</td>\n",
       "      <td>1</td>\n",
       "      <td>[Comercial]</td>\n",
       "    </tr>\n",
       "    <tr>\n",
       "      <th>1624</th>\n",
       "      <td>Ética pra quê?</td>\n",
       "      <td>Slash Education</td>\n",
       "      <td>1</td>\n",
       "      <td>[Marketing]</td>\n",
       "    </tr>\n",
       "  </tbody>\n",
       "</table>\n",
       "<p>1625 rows × 4 columns</p>\n",
       "</div>"
      ],
      "text/plain": [
       "                                                     1  \\\n",
       "1401         Scrum Foundation Professional Certificate   \n",
       "872                             Inteligência Emocional   \n",
       "1382                                  SQL Fundamentals   \n",
       "1309                                          Python 3   \n",
       "1603                         WordPress para Iniciantes   \n",
       "...                                                ...   \n",
       "579                        Especialização em Marketing   \n",
       "578                      Especialista em Vendas Online   \n",
       "577                    Especialista em User Onboarding   \n",
       "576   Especialista em Sales Development Representative   \n",
       "1624                                    Ética pra quê?   \n",
       "\n",
       "                            2  0  \\\n",
       "1401                CertiProf  9   \n",
       "872            Escola Conquer  9   \n",
       "1382                SoloLearn  8   \n",
       "1309                SoloLearn  7   \n",
       "1603                    Udemy  6   \n",
       "...                       ... ..   \n",
       "579                      Esab  1   \n",
       "578     Marketing Com Digital  1   \n",
       "577                   Conpass  1   \n",
       "576   Universidade Previsível  1   \n",
       "1624          Slash Education  1   \n",
       "\n",
       "                                                   Área  \n",
       "1401                              [Tecnologia, Produto]  \n",
       "872   [Produto, Comercial, Customer Success, Recurso...  \n",
       "1382                   [Tecnologia, Produto, Comercial]  \n",
       "1309                              [Tecnologia, Produto]  \n",
       "1603                                       [Tecnologia]  \n",
       "...                                                 ...  \n",
       "579                                  [Customer Success]  \n",
       "578                                         [Marketing]  \n",
       "577                                  [Customer Success]  \n",
       "576                                         [Comercial]  \n",
       "1624                                        [Marketing]  \n",
       "\n",
       "[1625 rows x 4 columns]"
      ]
     },
     "execution_count": 4,
     "metadata": {},
     "output_type": "execute_result"
    }
   ],
   "source": [
    "df_conteudos.sort_values(0,ascending = False)"
   ]
  },
  {
   "cell_type": "code",
   "execution_count": 5,
   "metadata": {},
   "outputs": [],
   "source": [
    "df_conteudos.to_excel(\"Planilha de Cursos.xlsx\")"
   ]
  },
  {
   "cell_type": "code",
   "execution_count": 6,
   "metadata": {},
   "outputs": [
    {
     "data": {
      "text/plain": [
       "2\n",
       "LinkedIn                               135\n",
       "Udemy                                   85\n",
       "Google                                  68\n",
       "Alura Cursos Online                     55\n",
       "Coursera                                53\n",
       "Rock Content                            38\n",
       "Microsoft                               35\n",
       "IBM                                     32\n",
       "Descola Cursos Inovadores               24\n",
       "Resultados Digitais                     17\n",
       "Rock University                         14\n",
       "FIAP                                    14\n",
       "Scrum Alliance                          14\n",
       "Impacta Tecnologia                      11\n",
       "Coursera Verified Certificates          11\n",
       "Senac São Paulo                         10\n",
       "Amazon Web Services (AWS)               10\n",
       "Alura                                   10\n",
       "TreinaWeb                               10\n",
       "RD University                           10\n",
       "Mergo User Experience                   10\n",
       "Salesforce                              10\n",
       "Scrum.org                                9\n",
       "HubSpot Academy                          9\n",
       "Data Science Academy                     9\n",
       "HubSpot                                  8\n",
       "Product Arena                            8\n",
       "Caroli.org                               8\n",
       "Goobec Brasil                            7\n",
       "Interaction Design Foundation (IDF)      7\n",
       "Name: 1, dtype: int64"
      ]
     },
     "execution_count": 6,
     "metadata": {},
     "output_type": "execute_result"
    }
   ],
   "source": [
    "df_conteudos.groupby([2])[1].count().sort_values(ascending = False)[0:30]"
   ]
  },
  {
   "cell_type": "code",
   "execution_count": null,
   "metadata": {},
   "outputs": [],
   "source": []
  }
 ],
 "metadata": {
  "kernelspec": {
   "display_name": "Python 3",
   "language": "python",
   "name": "python3"
  },
  "language_info": {
   "codemirror_mode": {
    "name": "ipython",
    "version": 3
   },
   "file_extension": ".py",
   "mimetype": "text/x-python",
   "name": "python",
   "nbconvert_exporter": "python",
   "pygments_lexer": "ipython3",
   "version": "3.8.3"
  }
 },
 "nbformat": 4,
 "nbformat_minor": 4
}
