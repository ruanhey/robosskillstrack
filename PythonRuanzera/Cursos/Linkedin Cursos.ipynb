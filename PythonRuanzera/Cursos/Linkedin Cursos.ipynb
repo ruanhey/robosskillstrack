{
 "cells": [
  {
   "cell_type": "code",
   "execution_count": 1,
   "metadata": {
    "scrolled": false
   },
   "outputs": [],
   "source": [
    "from parsel import Selector\n",
    "from selenium import webdriver\n",
    "from selenium.webdriver.common.keys import Keys\n",
    "from selenium.webdriver.support.ui import WebDriverWait\n",
    "from selenium.common.exceptions import ElementClickInterceptedException, NoSuchElementException, ElementNotInteractableException\n",
    "from selenium.webdriver.support import expected_conditions as ec\n",
    "from selenium.webdriver.common.by import By\n",
    "from http_request_randomizer.requests.proxy.requestProxy import RequestProxy\n",
    "import time\n",
    "import re\n",
    "import requests\n",
    "import pandas as pd\n",
    "import numpy as np"
   ]
  },
  {
   "cell_type": "code",
   "execution_count": 5,
   "metadata": {},
   "outputs": [
    {
     "name": "stdout",
     "output_type": "stream",
     "text": [
      "Mais resultados\n",
      "2\n",
      "Mais resultados\n",
      "3\n",
      "Mais resultados\n",
      "4\n",
      "Mais resultados\n",
      "2\n",
      "Mais resultados\n",
      "3\n",
      "Mais resultados\n",
      "4\n",
      "Mais resultados\n",
      "2\n",
      "Mais resultados\n",
      "3\n",
      "Mais resultados\n",
      "4\n",
      "Mais resultados\n",
      "2\n",
      "Mais resultados\n",
      "3\n",
      "Mais resultados\n",
      "4\n"
     ]
    }
   ],
   "source": [
    "driver = webdriver.Chrome('chromedriver.exe')\n",
    "cargos = [\"customer succes manager\",\n",
    "\"Customer Success Specialist\",\n",
    "\"Customer Success Analyst\",\n",
    "\"Head de Customer Success\"]\n",
    "profiles = []\n",
    "for j,cargo in enumerate(cargos):\n",
    "    driver.get('https://www.google.com.br')\n",
    "    search_input = driver.find_element_by_name('q')\n",
    "    # let google find any linkedin user with keyword \"python developer\" and \"San Francisco\"\n",
    "    search_input.send_keys('site:linkedin.com/in/ AND \"' + cargo + '\" AND \"Brasil\"')\n",
    "    search_input.send_keys(Keys.RETURN)\n",
    "    # grab all linkedin profiles from first page at Google\n",
    "    for i in range(2,5):\n",
    "        time.sleep(5)\n",
    "        profiles_aux = driver.find_elements_by_xpath('//*[@class=\"r\"]/a[1]')\n",
    "        profiles_aux = [profile.get_attribute('href') for profile in profiles_aux]\n",
    "        profiles.extend(profiles_aux)\n",
    "        driver.execute_script(\"window.scrollBy(0, document.body.scrollHeight);\")\n",
    "        try:\n",
    "            driver.find_element_by_xpath('//td/a[contains(text(),'+str(i)+')]').click()\n",
    "            print(\"Mais resultados\")\n",
    "        except ElementClickInterceptedException:\n",
    "            print('ElementClickInterceptedException')\n",
    "        except NoSuchElementException:\n",
    "            print('NoSuchElementException')\n",
    "        except ElementNotInteractableException:\n",
    "            print('ElementNotInteractableException')\n",
    "        print(i)"
   ]
  },
  {
   "cell_type": "code",
   "execution_count": 6,
   "metadata": {
    "scrolled": false
   },
   "outputs": [
    {
     "data": {
      "text/plain": [
       "120"
      ]
     },
     "execution_count": 6,
     "metadata": {},
     "output_type": "execute_result"
    }
   ],
   "source": [
    "len(profiles)"
   ]
  },
  {
   "cell_type": "code",
   "execution_count": 7,
   "metadata": {
    "scrolled": true
   },
   "outputs": [
    {
     "name": "stdout",
     "output_type": "stream",
     "text": [
      "https://br.linkedin.com/in/gabriellalicas\n",
      "[] [] []\n",
      "https://br.linkedin.com/in/cristianross\n",
      "https://br.linkedin.com/in/mar%C3%ADlia-sheila-santos-3471b416b\n",
      "[] [] []\n",
      "https://br.linkedin.com/in/guilherme-meireles-619941a9\n",
      "https://br.linkedin.com/in/lucianofv\n",
      "[] [] []\n",
      "https://br.linkedin.com/in/deanjos\n",
      "https://br.linkedin.com/in/jairoperaltavega\n",
      "https://br.linkedin.com/in/alinesfernandes94\n",
      "[] [] []\n",
      "https://br.linkedin.com/in/eduardo-faria-sombrio-a2baa1146\n",
      "[] [] []\n",
      "https://br.linkedin.com/in/andr%C3%A9a-santiago-260b7596\n",
      "[] [] []\n",
      "https://br.linkedin.com/in/denise-anjos-894635143\n",
      "[] [] []\n",
      "https://br.linkedin.com/in/andr%C3%A9a-santiago-260b7596\n",
      "[] [] []\n",
      "https://br.linkedin.com/in/eliza-yamada-197a5abb\n",
      "[] [] []\n",
      "https://br.linkedin.com/in/diego-garcia-12b676153\n",
      "[] [] []\n",
      "https://br.linkedin.com/in/jairoperaltavega/en\n",
      "https://br.linkedin.com/in/let%C3%ADcia-silva-a3003117b\n",
      "https://br.linkedin.com/in/brasfoot-brasil-7b07605a\n",
      "[] [] []\n",
      "https://br.linkedin.com/in/andr%C3%A9a-santiago-2382b6114\n",
      "[] [] []\n",
      "https://br.linkedin.com/in/s%C3%A9rgio-tiba/pt-br\n",
      "https://br.linkedin.com/in/sergio-robles-126250\n",
      "https://br.linkedin.com/in/jessica-tamietti\n",
      "[] [] []\n",
      "https://br.linkedin.com/in/gleicyane-ferraz-b61b31111\n",
      "[] [] []\n",
      "https://br.linkedin.com/in/daniellecontin\n",
      "[] [] []\n",
      "https://br.linkedin.com/in/carolina-maingu%C3%A9-b546371a4?trk=public_profile_browsemap_profile-result-card_result-card_full-click\n",
      "[] [] []\n",
      "https://br.linkedin.com/in/andrea-santiago-b870a08a\n",
      "[] [] []\n",
      "https://br.linkedin.com/in/carlos-ferreira-figueiredo-5670bb161\n",
      "https://www.linkedin.com/in/andrea-santiago-b7494613b\n",
      "[] [] []\n",
      "https://br.linkedin.com/in/psicologa-eliane-maria-polidoro-da-costa-cromack-892a6964\n",
      "[] [] []\n",
      "https://br.linkedin.com/in/alexandre-prado-3447127\n"
     ]
    },
    {
     "ename": "WebDriverException",
     "evalue": "Message: chrome not reachable\n  (Session info: chrome=83.0.4103.116)\n",
     "output_type": "error",
     "traceback": [
      "\u001b[1;31m---------------------------------------------------------------------------\u001b[0m",
      "\u001b[1;31mWebDriverException\u001b[0m                        Traceback (most recent call last)",
      "\u001b[1;32m<ipython-input-7-40f89dc07461>\u001b[0m in \u001b[0;36m<module>\u001b[1;34m\u001b[0m\n\u001b[0;32m      5\u001b[0m \u001b[1;32mfor\u001b[0m \u001b[0mi\u001b[0m\u001b[1;33m,\u001b[0m\u001b[0mprofile\u001b[0m \u001b[1;32min\u001b[0m \u001b[0menumerate\u001b[0m\u001b[1;33m(\u001b[0m\u001b[0mprofiles\u001b[0m\u001b[1;33m)\u001b[0m\u001b[1;33m:\u001b[0m\u001b[1;33m\u001b[0m\u001b[1;33m\u001b[0m\u001b[0m\n\u001b[0;32m      6\u001b[0m     \u001b[0mprint\u001b[0m\u001b[1;33m(\u001b[0m\u001b[0mprofile\u001b[0m\u001b[1;33m)\u001b[0m\u001b[1;33m\u001b[0m\u001b[1;33m\u001b[0m\u001b[0m\n\u001b[1;32m----> 7\u001b[1;33m     \u001b[0mdriver\u001b[0m\u001b[1;33m.\u001b[0m\u001b[0mget\u001b[0m\u001b[1;33m(\u001b[0m\u001b[0mprofile\u001b[0m\u001b[1;33m)\u001b[0m\u001b[1;33m\u001b[0m\u001b[1;33m\u001b[0m\u001b[0m\n\u001b[0m\u001b[0;32m      8\u001b[0m     \u001b[0mtime\u001b[0m\u001b[1;33m.\u001b[0m\u001b[0msleep\u001b[0m\u001b[1;33m(\u001b[0m\u001b[1;36m16\u001b[0m\u001b[1;33m)\u001b[0m\u001b[1;33m\u001b[0m\u001b[1;33m\u001b[0m\u001b[0m\n\u001b[0;32m      9\u001b[0m     \u001b[1;32mtry\u001b[0m \u001b[1;33m:\u001b[0m\u001b[1;33m\u001b[0m\u001b[1;33m\u001b[0m\u001b[0m\n",
      "\u001b[1;32mc:\\users\\ruan hey\\appdata\\local\\programs\\python\\python38-32\\lib\\site-packages\\selenium\\webdriver\\remote\\webdriver.py\u001b[0m in \u001b[0;36mget\u001b[1;34m(self, url)\u001b[0m\n\u001b[0;32m    331\u001b[0m         \u001b[0mLoads\u001b[0m \u001b[0ma\u001b[0m \u001b[0mweb\u001b[0m \u001b[0mpage\u001b[0m \u001b[1;32min\u001b[0m \u001b[0mthe\u001b[0m \u001b[0mcurrent\u001b[0m \u001b[0mbrowser\u001b[0m \u001b[0msession\u001b[0m\u001b[1;33m.\u001b[0m\u001b[1;33m\u001b[0m\u001b[1;33m\u001b[0m\u001b[0m\n\u001b[0;32m    332\u001b[0m         \"\"\"\n\u001b[1;32m--> 333\u001b[1;33m         \u001b[0mself\u001b[0m\u001b[1;33m.\u001b[0m\u001b[0mexecute\u001b[0m\u001b[1;33m(\u001b[0m\u001b[0mCommand\u001b[0m\u001b[1;33m.\u001b[0m\u001b[0mGET\u001b[0m\u001b[1;33m,\u001b[0m \u001b[1;33m{\u001b[0m\u001b[1;34m'url'\u001b[0m\u001b[1;33m:\u001b[0m \u001b[0murl\u001b[0m\u001b[1;33m}\u001b[0m\u001b[1;33m)\u001b[0m\u001b[1;33m\u001b[0m\u001b[1;33m\u001b[0m\u001b[0m\n\u001b[0m\u001b[0;32m    334\u001b[0m \u001b[1;33m\u001b[0m\u001b[0m\n\u001b[0;32m    335\u001b[0m     \u001b[1;33m@\u001b[0m\u001b[0mproperty\u001b[0m\u001b[1;33m\u001b[0m\u001b[1;33m\u001b[0m\u001b[0m\n",
      "\u001b[1;32mc:\\users\\ruan hey\\appdata\\local\\programs\\python\\python38-32\\lib\\site-packages\\selenium\\webdriver\\remote\\webdriver.py\u001b[0m in \u001b[0;36mexecute\u001b[1;34m(self, driver_command, params)\u001b[0m\n\u001b[0;32m    319\u001b[0m         \u001b[0mresponse\u001b[0m \u001b[1;33m=\u001b[0m \u001b[0mself\u001b[0m\u001b[1;33m.\u001b[0m\u001b[0mcommand_executor\u001b[0m\u001b[1;33m.\u001b[0m\u001b[0mexecute\u001b[0m\u001b[1;33m(\u001b[0m\u001b[0mdriver_command\u001b[0m\u001b[1;33m,\u001b[0m \u001b[0mparams\u001b[0m\u001b[1;33m)\u001b[0m\u001b[1;33m\u001b[0m\u001b[1;33m\u001b[0m\u001b[0m\n\u001b[0;32m    320\u001b[0m         \u001b[1;32mif\u001b[0m \u001b[0mresponse\u001b[0m\u001b[1;33m:\u001b[0m\u001b[1;33m\u001b[0m\u001b[1;33m\u001b[0m\u001b[0m\n\u001b[1;32m--> 321\u001b[1;33m             \u001b[0mself\u001b[0m\u001b[1;33m.\u001b[0m\u001b[0merror_handler\u001b[0m\u001b[1;33m.\u001b[0m\u001b[0mcheck_response\u001b[0m\u001b[1;33m(\u001b[0m\u001b[0mresponse\u001b[0m\u001b[1;33m)\u001b[0m\u001b[1;33m\u001b[0m\u001b[1;33m\u001b[0m\u001b[0m\n\u001b[0m\u001b[0;32m    322\u001b[0m             response['value'] = self._unwrap_value(\n\u001b[0;32m    323\u001b[0m                 response.get('value', None))\n",
      "\u001b[1;32mc:\\users\\ruan hey\\appdata\\local\\programs\\python\\python38-32\\lib\\site-packages\\selenium\\webdriver\\remote\\errorhandler.py\u001b[0m in \u001b[0;36mcheck_response\u001b[1;34m(self, response)\u001b[0m\n\u001b[0;32m    240\u001b[0m                 \u001b[0malert_text\u001b[0m \u001b[1;33m=\u001b[0m \u001b[0mvalue\u001b[0m\u001b[1;33m[\u001b[0m\u001b[1;34m'alert'\u001b[0m\u001b[1;33m]\u001b[0m\u001b[1;33m.\u001b[0m\u001b[0mget\u001b[0m\u001b[1;33m(\u001b[0m\u001b[1;34m'text'\u001b[0m\u001b[1;33m)\u001b[0m\u001b[1;33m\u001b[0m\u001b[1;33m\u001b[0m\u001b[0m\n\u001b[0;32m    241\u001b[0m             \u001b[1;32mraise\u001b[0m \u001b[0mexception_class\u001b[0m\u001b[1;33m(\u001b[0m\u001b[0mmessage\u001b[0m\u001b[1;33m,\u001b[0m \u001b[0mscreen\u001b[0m\u001b[1;33m,\u001b[0m \u001b[0mstacktrace\u001b[0m\u001b[1;33m,\u001b[0m \u001b[0malert_text\u001b[0m\u001b[1;33m)\u001b[0m\u001b[1;33m\u001b[0m\u001b[1;33m\u001b[0m\u001b[0m\n\u001b[1;32m--> 242\u001b[1;33m         \u001b[1;32mraise\u001b[0m \u001b[0mexception_class\u001b[0m\u001b[1;33m(\u001b[0m\u001b[0mmessage\u001b[0m\u001b[1;33m,\u001b[0m \u001b[0mscreen\u001b[0m\u001b[1;33m,\u001b[0m \u001b[0mstacktrace\u001b[0m\u001b[1;33m)\u001b[0m\u001b[1;33m\u001b[0m\u001b[1;33m\u001b[0m\u001b[0m\n\u001b[0m\u001b[0;32m    243\u001b[0m \u001b[1;33m\u001b[0m\u001b[0m\n\u001b[0;32m    244\u001b[0m     \u001b[1;32mdef\u001b[0m \u001b[0m_value_or_default\u001b[0m\u001b[1;33m(\u001b[0m\u001b[0mself\u001b[0m\u001b[1;33m,\u001b[0m \u001b[0mobj\u001b[0m\u001b[1;33m,\u001b[0m \u001b[0mkey\u001b[0m\u001b[1;33m,\u001b[0m \u001b[0mdefault\u001b[0m\u001b[1;33m)\u001b[0m\u001b[1;33m:\u001b[0m\u001b[1;33m\u001b[0m\u001b[1;33m\u001b[0m\u001b[0m\n",
      "\u001b[1;31mWebDriverException\u001b[0m: Message: chrome not reachable\n  (Session info: chrome=83.0.4103.116)\n"
     ]
    }
   ],
   "source": [
    "driver = webdriver.Chrome('chromedriver.exe')\n",
    "cursos = []\n",
    "escolas = []\n",
    "pessoas = []\n",
    "for i,profile in enumerate(profiles):\n",
    "    print(profile)\n",
    "    driver.get(profile)\n",
    "    time.sleep(16)\n",
    "    try :\n",
    "        certifications = driver.find_element_by_class_name(\"certifications\")\n",
    "        df_aux = pd.DataFrame([[x.find_element_by_class_name(\"result-card__title\").text,x.find_element_by_class_name(\"result-card__subtitle\").text] for x in driver.find_elements_by_xpath('//ul[@class = \"certifications__list\"]//li[@class = \"result-card\"]')])\n",
    "        curso = df_aux[0]\n",
    "        escola = df_aux[1]\n",
    "        pessoa = list(np.repeat(profile,len(curso)))\n",
    "    except : \n",
    "        curso = []\n",
    "        escola = []\n",
    "        pessoa = []\n",
    "        print(curso, escola, pessoa)\n",
    "    cursos.extend(curso)\n",
    "    escolas.extend(escola)\n",
    "    pessoas.extend(pessoa)"
   ]
  },
  {
   "cell_type": "code",
   "execution_count": null,
   "metadata": {
    "scrolled": true
   },
   "outputs": [],
   "source": [
    "pd.DataFrame([pessoas, cursos, escolas]).T.groupby([1,2])[0].count().sort_values(ascending = False).reset_index().to_excel(\"Conteduos-RH.xlsx\")"
   ]
  },
  {
   "cell_type": "code",
   "execution_count": null,
   "metadata": {},
   "outputs": [],
   "source": [
    "len(pd.DataFrame(pessoas)[0].unique())"
   ]
  },
  {
   "cell_type": "code",
   "execution_count": null,
   "metadata": {},
   "outputs": [],
   "source": []
  }
 ],
 "metadata": {
  "kernelspec": {
   "display_name": "Python 3",
   "language": "python",
   "name": "python3"
  },
  "language_info": {
   "codemirror_mode": {
    "name": "ipython",
    "version": 3
   },
   "file_extension": ".py",
   "mimetype": "text/x-python",
   "name": "python",
   "nbconvert_exporter": "python",
   "pygments_lexer": "ipython3",
   "version": "3.8.3"
  }
 },
 "nbformat": 4,
 "nbformat_minor": 4
}
